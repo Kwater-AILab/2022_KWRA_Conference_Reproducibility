{
 "cells": [
  {
   "cell_type": "markdown",
   "metadata": {},
   "source": [
    "##  Modeling the Impact of Stomatal Resistance Parameterizations on Total Evapotranspiration in the Reynolds Mountain East catchment using pySUMMA"
   ]
  },
  {
   "cell_type": "markdown",
   "metadata": {},
   "source": [
    "## 1. Introduction"
   ]
  },
  {
   "cell_type": "markdown",
   "metadata": {},
   "source": [
    "One part of the Clark et al. (2015) study explored the impact of different stomatal resistance parameterizations on total evapotranspiration (ET) using a SUMMA model for the Reynolds Mountain East catchment. This study looked at three different stomatal resistance parameterizations: the simple soil resistance method, the Ball Berry method, and the Jarvis method.\n",
    "\n",
    "In this Jupyter Notebook, the pySUMMA library is used to reproduce this analysis. First, the three different stomatal resistance parameterizations are described. Next, the Methods section describes how the pySUMMA can be used to create three different versions of the Reynolds Mountain East catchment model, one for each stomatal resistance parameterization. The Results section shows how to use pySUMMA and the Pandas library to reproduce Figure 7 from Clark et al. (2015). \n",
    "\n",
    "Collectively, this Jupyter Notebook serves as an example of how hydrologic modeling can be conducted directly within a Jupyter Notebook by leveraging the pySUMMA library. "
   ]
  },
  {
   "cell_type": "markdown",
   "metadata": {},
   "source": [
    "## 2. Background"
   ]
  },
  {
   "cell_type": "markdown",
   "metadata": {},
   "source": [
    "### The stomatal resistance parameterizations available in SUMMA"
   ]
  },
  {
   "cell_type": "markdown",
   "metadata": {},
   "source": [
    "### 1) The simple soil resistance method"
   ]
  },
  {
   "cell_type": "markdown",
   "metadata": {},
   "source": [
    "\\begin{equation*}\n",
    "r_{{s},{sun}} = r_{{s},{shd}} = \\frac{r_{0c}}{\\beta_v} \\,\\,\\,\\, \n",
    "\\end{equation*}\n",
    "$r_{0c} \\,(s\\,m^{-1})$ : the minimum stomatal resistance ,     ${\\beta_v}\\,(-)$ : the total soil water stress function"
   ]
  },
  {
   "cell_type": "markdown",
   "metadata": {},
   "source": [
    "\\begin{equation*}\n",
    "{\\beta_v} = \\sum f_{{roots},{j}} \\beta_{{v},{j}}  +  f_{roots}^{aq} \\beta_{v}^{aq}\n",
    "\\end{equation*}\n",
    "$z_{soil}$ : the soil depth, $f_{{roots},{j}}$ : the root density in the $j$-th soil layer\n",
    "$\\beta_{{v},{j}}$ : the water availability stress funtion in the $j$-th soil layer <br/>\n",
    "$f_{roots}^{aq}$ : the fraction of roots for the aquifer, $\\beta_{v}^{aq}$ : water availability stress function for the aquifer\n",
    "\n",
    "For additional detail, see: https://github.com/uva-hydroinformatics/pysumma/tree/master/sopron_2018_notebooks/simple1.png"
   ]
  },
  {
   "cell_type": "markdown",
   "metadata": {},
   "source": [
    "### 2) The Ball-Berry method\n",
    " "
   ]
  },
  {
   "cell_type": "markdown",
   "metadata": {},
   "source": [
    "\\begin{equation*}\n",
    "g_i = v_t  \\frac{A_i}{c_{air}}\\frac{e_{air}}{e_{sat}(T_{veg})}P_{air} + g_{min}\\beta_v, \\,\\,\\,\\,   i = sun, shd\n",
    "\\end{equation*}"
   ]
  },
  {
   "cell_type": "markdown",
   "metadata": {},
   "source": [
    "$g_i\\, (micromol \\,\\, m^{-2} s^{-1})$ : Stomatal conductance per unit sunlit and shaded leaf area <br/> \n",
    "$A_i\\, (micromol \\,\\, m^{-2} s^{-1})$ : a function of the rate of photosynthesis <br/>\n",
    "$c_{air}\\, (Pa)$ : $CO_2$ concentration at the leaf surface (time varying model forcing, representing carbon fertilization) <br/>\n",
    "$g_{min}\\, (micromol \\,\\, m^{-2} s^{-1})$ : the minimum stomatal conductance <br/>\n",
    "$v_t\\,(-)$ : an empirical parameter to relate transpiration to the $CO_2$ flux, where a greater value of $v_t$ means the leaf consumes more water to produce the same carbon mass <br/>\n",
    "\n",
    "For additinoal detail, see: https://github.com/uva-hydroinformatics/pysumma/tree/master/sopron_2018_notebooks/BallBerry.png"
   ]
  },
  {
   "cell_type": "markdown",
   "metadata": {},
   "source": [
    "### 3) The Jarvis method"
   ]
  },
  {
   "cell_type": "markdown",
   "metadata": {},
   "source": [
    "\\begin{equation*}\n",
    "r_{{s},{i}} = \\frac{r_{0c}}{f(Q_{{PAR},{i}})f(T_{air})f(e_{d})\\beta_v} \\,\\,\\,\\,   i = sun, shd\n",
    "\\end{equation*}"
   ]
  },
  {
   "cell_type": "markdown",
   "metadata": {},
   "source": [
    "the subscript $i$ defines either sunlit or shaded leaves <br/> \n",
    "$f(Q_{{PAR},{i}})$, $f(T_{air})$, $f(e_{d})$ : all limited to the range 0-1, represent the effects of photosynthetically-active radiation(PAR), air temperature, and vapor pressure deficit, where $ Q_{{PAR},{i}} $ represents PAR absorbed on sunlit or shaded leaves <br/> \n",
    "\n",
    "For additional detail, see: https://github.com/uva-hydroinformatics/pysumma/tree/master/sopron_2018_notebooks/Jarvis.png"
   ]
  },
  {
   "cell_type": "markdown",
   "metadata": {},
   "source": [
    "The above images are taken from the Stomal Resistance Method section within the manual Structure for Unifying Multiple Modeling Alternatives (SUMMA), Version 1.0: Technical Description (April, 2015)."
   ]
  },
  {
   "cell_type": "markdown",
   "metadata": {},
   "source": [
    "## 3. Methods"
   ]
  },
  {
   "cell_type": "markdown",
   "metadata": {},
   "source": [
    "### 1) Install pySUMMA from GitHub (UVA-Hydroinformatics/pysumma-master branch)"
   ]
  },
  {
   "cell_type": "code",
   "execution_count": 30,
   "metadata": {},
   "outputs": [],
   "source": [
    "# On CyberGIS, pySUMMA installed, so users don't need to install pySUMMA.\n",
    "#!/opt/conda/bin/pip install git+https://github.com/uva-hydroinformatics/pysumma.git@master  "
   ]
  },
  {
   "cell_type": "markdown",
   "metadata": {},
   "source": [
    "### 2) Download SUMMA Model Instance from HydroShare"
   ]
  },
  {
   "cell_type": "code",
   "execution_count": 1,
   "metadata": {},
   "outputs": [],
   "source": [
    "from pysumma.utils import utils"
   ]
  },
  {
   "cell_type": "code",
   "execution_count": 2,
   "metadata": {},
   "outputs": [
    {
     "name": "stdout",
     "output_type": "stream",
     "text": [
      "Username: choi\n",
      "Password for choi: ········\n"
     ]
    }
   ],
   "source": [
    "resource_id = 'e1a73bc4e7c34166895ff20ae53371f5'\n",
    "instance = utils.download_model_instance(resource_id)"
   ]
  },
  {
   "cell_type": "code",
   "execution_count": 3,
   "metadata": {},
   "outputs": [
    {
     "name": "stdout",
     "output_type": "stream",
     "text": [
      "TestCases installed\r\n"
     ]
    }
   ],
   "source": [
    "!cd SummaModel_ReynoldsAspenStand_StomatalResistance_sopron/; chmod +x ./installTestCases_local.sh\n",
    "!cd SummaModel_ReynoldsAspenStand_StomatalResistance_sopron/; ./installTestCases_local.sh"
   ]
  },
  {
   "cell_type": "markdown",
   "metadata": {},
   "source": [
    "### 3) Study Area"
   ]
  },
  {
   "cell_type": "markdown",
   "metadata": {},
   "source": [
    "#### The Reynolds Mountain East catchment is located in southwestern Idaho as shown in the figure below."
   ]
  },
  {
   "cell_type": "code",
   "execution_count": 1,
   "metadata": {},
   "outputs": [],
   "source": [
    "from ipyleaflet import Map, GeoJSON\n",
    "import json, os"
   ]
  },
  {
   "cell_type": "code",
   "execution_count": 5,
   "metadata": {},
   "outputs": [
    {
     "data": {
      "application/vnd.jupyter.widget-view+json": {
       "model_id": "77a2e5a203d745b89ffbb856adc678ae",
       "version_major": 2,
       "version_minor": 0
      },
      "text/plain": [
       "Map(basemap={'url': 'https://{s}.tile.openstreetmap.org/{z}/{x}/{y}.png', 'max_zoom': 19, 'attribution': 'Map …"
      ]
     },
     "metadata": {},
     "output_type": "display_data"
    }
   ],
   "source": [
    "m = Map(center=[43.06745, -116.75489], zoom=15)\n",
    "with open(os.getcwd() + '/' + instance + '/data/reynolds_geojson_latlon.geojson') as f:\n",
    "    data = json.load(f)\n",
    "g = GeoJSON(data=data)\n",
    "m.add_layer(g)\n",
    "m"
   ]
  },
  {
   "cell_type": "markdown",
   "metadata": {},
   "source": [
    "### 4) Create pySUMMA Simulation Object"
   ]
  },
  {
   "cell_type": "code",
   "execution_count": 2,
   "metadata": {
    "scrolled": false
   },
   "outputs": [],
   "source": [
    "from pysumma.Simulation import Simulation"
   ]
  },
  {
   "cell_type": "code",
   "execution_count": 4,
   "metadata": {
    "scrolled": true
   },
   "outputs": [],
   "source": [
    "# path to the SUMMA filemanager file\n",
    "file_manager = os.getcwd() + '/' + instance + '/settings/summa_fileManager_riparianAspenSimpleResistance.txt'"
   ]
  },
  {
   "cell_type": "code",
   "execution_count": 5,
   "metadata": {
    "scrolled": false
   },
   "outputs": [
    {
     "name": "stdout",
     "output_type": "stream",
     "text": [
      "ModelOuput master file filepath: /data/hsjupyter/a/davidchoi76/pysumma_test/SummaModel_ReynoldsAspenStand_StomatalResistance_sopron/settings/meta/var_lookup.f90\n"
     ]
    }
   ],
   "source": [
    "# Create pySUMMA Simulation Object\n",
    "S = Simulation(file_manager)"
   ]
  },
  {
   "cell_type": "markdown",
   "metadata": {},
   "source": [
    "### 5) Run SUMMA for the different stomatal resistance parameterization options on HydroShare JH"
   ]
  },
  {
   "cell_type": "code",
   "execution_count": 6,
   "metadata": {},
   "outputs": [],
   "source": [
    "# set the simulation start and finish times\n",
    "S.decision_obj.simulStart.value = \"2006-07-01 00:00\"\n",
    "S.decision_obj.simulFinsh.value = \"2007-09-30 00:00\""
   ]
  },
  {
   "cell_type": "code",
   "execution_count": 7,
   "metadata": {
    "scrolled": true
   },
   "outputs": [
    {
     "data": {
      "text/plain": [
       "['BallBerry', 'Jarvis', 'simpleResistance']"
      ]
     },
     "execution_count": 7,
     "metadata": {},
     "output_type": "execute_result"
    }
   ],
   "source": [
    "# query for the available stomatal resistance parameterizations\n",
    "S.decision_obj.stomResist.options"
   ]
  },
  {
   "cell_type": "markdown",
   "metadata": {},
   "source": [
    "#### 5.1) set simple soil resistance method "
   ]
  },
  {
   "cell_type": "code",
   "execution_count": 8,
   "metadata": {},
   "outputs": [
    {
     "data": {
      "text/plain": [
       "'simpleResistance'"
      ]
     },
     "execution_count": 8,
     "metadata": {},
     "output_type": "execute_result"
    }
   ],
   "source": [
    "S.decision_obj.stomResist.value = 'simpleResistance'\n",
    "S.decision_obj.stomResist.value"
   ]
  },
  {
   "cell_type": "markdown",
   "metadata": {},
   "source": [
    "#### 5.2) run the model with giving the output prefix \"simpleResistance\""
   ]
  },
  {
   "cell_type": "code",
   "execution_count": 9,
   "metadata": {},
   "outputs": [],
   "source": [
    "S.output_prefix.value = \"simpleResistance\""
   ]
  },
  {
   "cell_type": "code",
   "execution_count": 10,
   "metadata": {},
   "outputs": [
    {
     "name": "stdout",
     "output_type": "stream",
     "text": [
      "file_suffix is 'simpleResistance'.\n",
      "file_master is '/data/hsjupyter/a/davidchoi76/pysumma_test/SummaModel_ReynoldsAspenStand_StomatalResistance_sopron/settings/summa_fileManager_riparianAspenSimpleResistance.txt'.\n",
      "start at 08:21:45\n",
      "Name of Model Output control file: /data/hsjupyter/a/davidchoi76/pysumma_test/SummaModel_ReynoldsAspenStand_StomatalResistance_sopron/settings/meta/Model_Output.txt\n",
      "decisions file =  /data/hsjupyter/a/davidchoi76/pysumma_test/SummaModel_ReynoldsAspenStand_StomatalResistance_sopron/settings/summa_zDecisions_riparianAspenSimpleResistance.txt\n",
      "   1 simulStart: 2006-07-01 00:00\n",
      "   2 simulFinsh: 2007-09-30 00:00\n",
      "   3 soilCatTbl: ROSETTA\n",
      "   4 vegeParTbl: USGS\n",
      "   5 soilStress: NoahType\n",
      "   6 stomResist: simpleResistance\n",
      "   7 num_method: itertive\n",
      "   8 fDerivMeth: analytic\n",
      "   9 LAI_method: specified\n",
      "  10 f_Richards: mixdform\n",
      "  11 groundwatr: noXplict\n",
      "  12 hc_profile: constant\n",
      "  13 bcUpprTdyn: nrg_flux\n",
      "  14 bcLowrTdyn: zeroFlux\n",
      "  15 bcUpprSoiH: liq_flux\n",
      "  16 bcLowrSoiH: drainage\n",
      "  17 veg_traits: CM_QJRMS1988\n",
      "  18 canopyEmis: difTrans\n",
      "  19 snowIncept: lightSnow\n",
      "  20 windPrfile: logBelowCanopy\n",
      "  21 astability: louisinv\n",
      "  22 canopySrad: BeersLaw\n",
      "  23 alb_method: varDecay\n",
      "  24 compaction: anderson\n",
      "  25 snowLayers: CLM_2010\n",
      "  26 thCondSnow: jrdn1991\n",
      "  27 thCondSoil: mixConstit\n",
      "  28 spatial_gw: localColumn\n",
      "  29 subRouting: timeDlay\n",
      "startTime: iyyy, im, id, ih, imin = 2006  7  1  0  0\n",
      "finshTime: iyyy, im, id, ih, imin = 2007  9 30  0  0\n",
      "/data/hsjupyter/a/davidchoi76/pysumma_test/SummaModel_ReynoldsAspenStand_StomatalResistance_sopron/settings/summa_zLocalParamInfo.txt\n",
      "/data/hsjupyter/a/davidchoi76/pysumma_test/SummaModel_ReynoldsAspenStand_StomatalResistance_sopron/settings/summa_zBasinParamInfo.txt\n",
      "Skipping over SLTYPE = STAS\n",
      "Skipping over SLTYPE = STAS-RUC\n",
      " hruIndex\n",
      " frozenPrecipMultip\n",
      " theta_mp\n",
      " theta_sat\n",
      " theta_res\n",
      " vGn_alpha\n",
      " vGn_n\n",
      " f_impede\n",
      " k_soil\n",
      " k_macropore\n",
      " critSoilWilting\n",
      " critSoilTranspire\n",
      " winterSAI\n",
      " summerLAI\n",
      " heightCanopyTop\n",
      " heightCanopyBottom\n",
      " kAnisotropic\n",
      " rootDistExp\n",
      " zScale_TOPMODEL\n",
      " qSurfScale\n",
      "Created output file:/data/hsjupyter/a/davidchoi76/pysumma_test/SummaModel_ReynoldsAspenStand_StomatalResistance_sopron/output/simpleResistance_output_simpleResistance_timestep.nc\n",
      "\n",
      "initial date/time = 2020-01-15   8:21:45.786\n",
      "  final date/time = 2020-01-15   8:21:51.126\n",
      "\n",
      "     elapsed init =   3.3000000E-02 s\n",
      "    fraction init =   6.1797753E-03 s\n",
      "\n",
      "     elapsed read =   0.1930000     s\n",
      "    fraction read =   3.6142322E-02 s\n",
      "\n",
      "    elapsed write =    1.354000     s\n",
      "   fraction write =   0.2535581     s\n",
      "\n",
      "  elapsed physics =    3.744000     s\n",
      " fraction physics =   0.7011236     s\n",
      "\n",
      "     elapsed time =    5.340000     s\n",
      "       or             8.9000000E-02 m\n",
      "       or             1.4833333E-03 h\n",
      "       or             6.1805556E-05 d\n",
      "\n",
      "   number threads =          1\n",
      "\n",
      " FORTRAN STOP: finished simulation successfully.\n",
      "\n"
     ]
    }
   ],
   "source": [
    "S.executable = \"/code/bin/summa.exe\"\n",
    "results_simpleResistance, out_file1 = S.execute(run_suffix=\"simpleResistance\", run_option = 'local')"
   ]
  },
  {
   "cell_type": "markdown",
   "metadata": {},
   "source": [
    "#### 5.3) repeat for the Ball Berry method "
   ]
  },
  {
   "cell_type": "code",
   "execution_count": 11,
   "metadata": {
    "scrolled": true
   },
   "outputs": [
    {
     "data": {
      "text/plain": [
       "'BallBerry'"
      ]
     },
     "execution_count": 11,
     "metadata": {},
     "output_type": "execute_result"
    }
   ],
   "source": [
    "S.decision_obj.stomResist.value = 'BallBerry'\n",
    "S.decision_obj.stomResist.value"
   ]
  },
  {
   "cell_type": "code",
   "execution_count": 12,
   "metadata": {},
   "outputs": [],
   "source": [
    "S.output_prefix.value = \"BallBerry\""
   ]
  },
  {
   "cell_type": "code",
   "execution_count": 13,
   "metadata": {},
   "outputs": [
    {
     "name": "stdout",
     "output_type": "stream",
     "text": [
      "file_suffix is 'BallBerry'.\n",
      "file_master is '/data/hsjupyter/a/davidchoi76/pysumma_test/SummaModel_ReynoldsAspenStand_StomatalResistance_sopron/settings/summa_fileManager_riparianAspenSimpleResistance.txt'.\n",
      "start at 08:21:51\n",
      "Name of Model Output control file: /data/hsjupyter/a/davidchoi76/pysumma_test/SummaModel_ReynoldsAspenStand_StomatalResistance_sopron/settings/meta/Model_Output.txt\n",
      "decisions file =  /data/hsjupyter/a/davidchoi76/pysumma_test/SummaModel_ReynoldsAspenStand_StomatalResistance_sopron/settings/summa_zDecisions_riparianAspenSimpleResistance.txt\n",
      "   1 simulStart: 2006-07-01 00:00\n",
      "   2 simulFinsh: 2007-09-30 00:00\n",
      "   3 soilCatTbl: ROSETTA\n",
      "   4 vegeParTbl: USGS\n",
      "   5 soilStress: NoahType\n",
      "   6 stomResist: BallBerry\n",
      "   7 num_method: itertive\n",
      "   8 fDerivMeth: analytic\n",
      "   9 LAI_method: specified\n",
      "  10 f_Richards: mixdform\n",
      "  11 groundwatr: noXplict\n",
      "  12 hc_profile: constant\n",
      "  13 bcUpprTdyn: nrg_flux\n",
      "  14 bcLowrTdyn: zeroFlux\n",
      "  15 bcUpprSoiH: liq_flux\n",
      "  16 bcLowrSoiH: drainage\n",
      "  17 veg_traits: CM_QJRMS1988\n",
      "  18 canopyEmis: difTrans\n",
      "  19 snowIncept: lightSnow\n",
      "  20 windPrfile: logBelowCanopy\n",
      "  21 astability: louisinv\n",
      "  22 canopySrad: BeersLaw\n",
      "  23 alb_method: varDecay\n",
      "  24 compaction: anderson\n",
      "  25 snowLayers: CLM_2010\n",
      "  26 thCondSnow: jrdn1991\n",
      "  27 thCondSoil: mixConstit\n",
      "  28 spatial_gw: localColumn\n",
      "  29 subRouting: timeDlay\n",
      "startTime: iyyy, im, id, ih, imin = 2006  7  1  0  0\n",
      "finshTime: iyyy, im, id, ih, imin = 2007  9 30  0  0\n",
      "/data/hsjupyter/a/davidchoi76/pysumma_test/SummaModel_ReynoldsAspenStand_StomatalResistance_sopron/settings/summa_zLocalParamInfo.txt\n",
      "/data/hsjupyter/a/davidchoi76/pysumma_test/SummaModel_ReynoldsAspenStand_StomatalResistance_sopron/settings/summa_zBasinParamInfo.txt\n",
      "Skipping over SLTYPE = STAS\n",
      "Skipping over SLTYPE = STAS-RUC\n",
      " hruIndex\n",
      " frozenPrecipMultip\n",
      " theta_mp\n",
      " theta_sat\n",
      " theta_res\n",
      " vGn_alpha\n",
      " vGn_n\n",
      " f_impede\n",
      " k_soil\n",
      " k_macropore\n",
      " critSoilWilting\n",
      " critSoilTranspire\n",
      " winterSAI\n",
      " summerLAI\n",
      " heightCanopyTop\n",
      " heightCanopyBottom\n",
      " kAnisotropic\n",
      " rootDistExp\n",
      " zScale_TOPMODEL\n",
      " qSurfScale\n",
      "Created output file:/data/hsjupyter/a/davidchoi76/pysumma_test/SummaModel_ReynoldsAspenStand_StomatalResistance_sopron/output/BallBerry_output_BallBerry_timestep.nc\n",
      "\n",
      "initial date/time = 2020-01-15   8:21:51.356\n",
      "  final date/time = 2020-01-15   8:21:56.708\n",
      "\n",
      "     elapsed init =   2.5000000E-02 s\n",
      "    fraction init =   4.6711510E-03 s\n",
      "\n",
      "     elapsed read =   0.2010000     s\n",
      "    fraction read =   3.7556054E-02 s\n",
      "\n",
      "    elapsed write =    1.369000     s\n",
      "   fraction write =   0.2557922     s\n",
      "\n",
      "  elapsed physics =    3.730000     s\n",
      " fraction physics =   0.6969357     s\n",
      "\n",
      "     elapsed time =    5.352000     s\n",
      "       or             8.9200000E-02 m\n",
      "       or             1.4866667E-03 h\n",
      "       or             6.1944444E-05 d\n",
      "\n",
      "   number threads =          1\n",
      "\n",
      " FORTRAN STOP: finished simulation successfully.\n",
      "\n"
     ]
    }
   ],
   "source": [
    "results_BallBerry, out_file2 = S.execute(run_suffix=\"BallBerry\", run_option = 'local')"
   ]
  },
  {
   "cell_type": "markdown",
   "metadata": {},
   "source": [
    "#### 5.4) repeat for the Jarvis method "
   ]
  },
  {
   "cell_type": "code",
   "execution_count": 14,
   "metadata": {},
   "outputs": [
    {
     "data": {
      "text/plain": [
       "'Jarvis'"
      ]
     },
     "execution_count": 14,
     "metadata": {},
     "output_type": "execute_result"
    }
   ],
   "source": [
    "S.decision_obj.stomResist.value = 'Jarvis'\n",
    "S.decision_obj.stomResist.value"
   ]
  },
  {
   "cell_type": "code",
   "execution_count": 15,
   "metadata": {},
   "outputs": [],
   "source": [
    "S.output_prefix.value = \"Jarvis\""
   ]
  },
  {
   "cell_type": "code",
   "execution_count": 16,
   "metadata": {},
   "outputs": [
    {
     "name": "stdout",
     "output_type": "stream",
     "text": [
      "file_suffix is 'Jarvis'.\n",
      "file_master is '/data/hsjupyter/a/davidchoi76/pysumma_test/SummaModel_ReynoldsAspenStand_StomatalResistance_sopron/settings/summa_fileManager_riparianAspenSimpleResistance.txt'.\n",
      "start at 08:21:56\n",
      "Name of Model Output control file: /data/hsjupyter/a/davidchoi76/pysumma_test/SummaModel_ReynoldsAspenStand_StomatalResistance_sopron/settings/meta/Model_Output.txt\n",
      "decisions file =  /data/hsjupyter/a/davidchoi76/pysumma_test/SummaModel_ReynoldsAspenStand_StomatalResistance_sopron/settings/summa_zDecisions_riparianAspenSimpleResistance.txt\n",
      "   1 simulStart: 2006-07-01 00:00\n",
      "   2 simulFinsh: 2007-09-30 00:00\n",
      "   3 soilCatTbl: ROSETTA\n",
      "   4 vegeParTbl: USGS\n",
      "   5 soilStress: NoahType\n",
      "   6 stomResist: Jarvis\n",
      "   7 num_method: itertive\n",
      "   8 fDerivMeth: analytic\n",
      "   9 LAI_method: specified\n",
      "  10 f_Richards: mixdform\n",
      "  11 groundwatr: noXplict\n",
      "  12 hc_profile: constant\n",
      "  13 bcUpprTdyn: nrg_flux\n",
      "  14 bcLowrTdyn: zeroFlux\n",
      "  15 bcUpprSoiH: liq_flux\n",
      "  16 bcLowrSoiH: drainage\n",
      "  17 veg_traits: CM_QJRMS1988\n",
      "  18 canopyEmis: difTrans\n",
      "  19 snowIncept: lightSnow\n",
      "  20 windPrfile: logBelowCanopy\n",
      "  21 astability: louisinv\n",
      "  22 canopySrad: BeersLaw\n",
      "  23 alb_method: varDecay\n",
      "  24 compaction: anderson\n",
      "  25 snowLayers: CLM_2010\n",
      "  26 thCondSnow: jrdn1991\n",
      "  27 thCondSoil: mixConstit\n",
      "  28 spatial_gw: localColumn\n",
      "  29 subRouting: timeDlay\n",
      "startTime: iyyy, im, id, ih, imin = 2006  7  1  0  0\n",
      "finshTime: iyyy, im, id, ih, imin = 2007  9 30  0  0\n",
      "/data/hsjupyter/a/davidchoi76/pysumma_test/SummaModel_ReynoldsAspenStand_StomatalResistance_sopron/settings/summa_zLocalParamInfo.txt\n",
      "/data/hsjupyter/a/davidchoi76/pysumma_test/SummaModel_ReynoldsAspenStand_StomatalResistance_sopron/settings/summa_zBasinParamInfo.txt\n",
      "Skipping over SLTYPE = STAS\n",
      "Skipping over SLTYPE = STAS-RUC\n",
      " hruIndex\n",
      " frozenPrecipMultip\n",
      " theta_mp\n",
      " theta_sat\n",
      " theta_res\n",
      " vGn_alpha\n",
      " vGn_n\n",
      " f_impede\n",
      " k_soil\n",
      " k_macropore\n",
      " critSoilWilting\n",
      " critSoilTranspire\n",
      " winterSAI\n",
      " summerLAI\n",
      " heightCanopyTop\n",
      " heightCanopyBottom\n",
      " kAnisotropic\n",
      " rootDistExp\n",
      " zScale_TOPMODEL\n",
      " qSurfScale\n",
      "Created output file:/data/hsjupyter/a/davidchoi76/pysumma_test/SummaModel_ReynoldsAspenStand_StomatalResistance_sopron/output/Jarvis_output_Jarvis_timestep.nc\n",
      "\n",
      "initial date/time = 2020-01-15   8:21:56.779\n",
      "  final date/time = 2020-01-15   8:22:02.124\n",
      "\n",
      "     elapsed init =   2.6000000E-02 s\n",
      "    fraction init =   4.8643592E-03 s\n",
      "\n",
      "     elapsed read =   0.2050000     s\n",
      "    fraction read =   3.8353601E-02 s\n",
      "\n",
      "    elapsed write =    1.369000     s\n",
      "   fraction write =   0.2561272     s\n",
      "\n",
      "  elapsed physics =    3.736000     s\n",
      " fraction physics =   0.6989710     s\n",
      "\n",
      "     elapsed time =    5.345000     s\n",
      "       or             8.9083333E-02 m\n",
      "       or             1.4847222E-03 h\n",
      "       or             6.1863426E-05 d\n",
      "\n",
      "   number threads =          1\n",
      "\n",
      " FORTRAN STOP: finished simulation successfully.\n",
      "\n"
     ]
    }
   ],
   "source": [
    "results_Jarvis, out_file3 = S.execute(run_suffix=\"Jarvis\", run_option = 'local')"
   ]
  },
  {
   "cell_type": "markdown",
   "metadata": {},
   "source": [
    "## 4. Results"
   ]
  },
  {
   "cell_type": "markdown",
   "metadata": {},
   "source": [
    "### Recreate the Figure 7 plot from Clark et al., 2015: The total ET for the three different stomatal resistance methods"
   ]
  },
  {
   "cell_type": "code",
   "execution_count": 17,
   "metadata": {},
   "outputs": [],
   "source": [
    "from pysumma.Plotting import Plotting\n",
    "from jupyterthemes import jtplot\n",
    "import matplotlib.pyplot as plt\n",
    "import pandas as pd\n",
    "jtplot.figsize(x=10, y=10)"
   ]
  },
  {
   "cell_type": "markdown",
   "metadata": {},
   "source": [
    "#### 4.1) Create function to calculate Total ET from SUMMA output"
   ]
  },
  {
   "cell_type": "code",
   "execution_count": 18,
   "metadata": {},
   "outputs": [],
   "source": [
    "def calc_total_et(et_output_df):\n",
    "    total_et_data = (et_output_df['scalarLatHeatTotal'])*3600/2260000\n",
    "    # create dates(X-axis) attribute from ouput netcdf\n",
    "    dates = total_et_data.coords['time'].data\n",
    "    # create data value(Y-axis) attribute from ouput netcdf\n",
    "    data_values = total_et_data.data\n",
    "    # create two dimensional tabular data structure \n",
    "    total_et_df = pd.DataFrame(data_values, index=dates)\n",
    "    # round time to nearest hour (ex. 2006-10-01T00:59:59.99 -> 2006-10-01T01:00:00)\n",
    "    total_et_df.index = total_et_df.index.round(\"H\")\n",
    "    # set the time period to display plot \n",
    "    total_et_df = total_et_df.loc[\"2007-05-31 23:00:00\":\"2007-08-20 23:00:00\"]\n",
    "    # resample data by the average value hourly\n",
    "    total_et_df_hourly = total_et_df.resample(\"H\").mean()\n",
    "    # resample data by the average for hour of day\n",
    "    total_et_by_hour = total_et_df_hourly.groupby(total_et_df_hourly.index.hour).mean()\n",
    "    total_et_by_hour.index.name = 'hour'\n",
    "    total_et_by_hour.columns = ['ET']\n",
    "    # calculate 3 hour moving average\n",
    "    total_et_by_hour.loc['24'] = total_et_by_hour.loc[0].values\n",
    "    for index in range(1,24,1):\n",
    "        total_et_by_hour['ET'][index] = (total_et_by_hour['ET'][index-1]+total_et_by_hour['ET'][index]+total_et_by_hour['ET'][index+1])/3\n",
    "    return total_et_by_hour"
   ]
  },
  {
   "cell_type": "markdown",
   "metadata": {},
   "source": [
    "#### 4.2) Get hour of day output of the three stomatal resistance methods for the period 1 June to 20 August 2007"
   ]
  },
  {
   "cell_type": "code",
   "execution_count": 19,
   "metadata": {},
   "outputs": [],
   "source": [
    "simResis_hour = calc_total_et(results_simpleResistance)\n",
    "BallBerry_hour = calc_total_et(results_BallBerry)\n",
    "Jarvis_hour = calc_total_et(results_Jarvis)"
   ]
  },
  {
   "cell_type": "markdown",
   "metadata": {},
   "source": [
    "#### 4.3) Combine the stomatal resistance parameterizations into a single Pandas Dataframe"
   ]
  },
  {
   "cell_type": "code",
   "execution_count": 20,
   "metadata": {},
   "outputs": [],
   "source": [
    "# Combine each stomatal resistance parameterizations\n",
    "ET_Combine = pd.concat([BallBerry_hour, Jarvis_hour, simResis_hour], axis=1)\n",
    "# add label \n",
    "ET_Combine.columns = ['Ball-Berry', 'Jarvis', 'Simple resistance']"
   ]
  },
  {
   "cell_type": "code",
   "execution_count": 21,
   "metadata": {},
   "outputs": [
    {
     "data": {
      "text/html": [
       "<div>\n",
       "<style scoped>\n",
       "    .dataframe tbody tr th:only-of-type {\n",
       "        vertical-align: middle;\n",
       "    }\n",
       "\n",
       "    .dataframe tbody tr th {\n",
       "        vertical-align: top;\n",
       "    }\n",
       "\n",
       "    .dataframe thead th {\n",
       "        text-align: right;\n",
       "    }\n",
       "</style>\n",
       "<table border=\"1\" class=\"dataframe\">\n",
       "  <thead>\n",
       "    <tr style=\"text-align: right;\">\n",
       "      <th></th>\n",
       "      <th>Ball-Berry</th>\n",
       "      <th>Jarvis</th>\n",
       "      <th>Simple resistance</th>\n",
       "    </tr>\n",
       "    <tr>\n",
       "      <th>hour</th>\n",
       "      <th></th>\n",
       "      <th></th>\n",
       "      <th></th>\n",
       "    </tr>\n",
       "  </thead>\n",
       "  <tbody>\n",
       "    <tr>\n",
       "      <th>0</th>\n",
       "      <td>-0.015393</td>\n",
       "      <td>-0.011644</td>\n",
       "      <td>-0.049275</td>\n",
       "    </tr>\n",
       "    <tr>\n",
       "      <th>1</th>\n",
       "      <td>-0.014286</td>\n",
       "      <td>-0.010777</td>\n",
       "      <td>-0.044649</td>\n",
       "    </tr>\n",
       "    <tr>\n",
       "      <th>2</th>\n",
       "      <td>-0.012894</td>\n",
       "      <td>-0.009533</td>\n",
       "      <td>-0.040845</td>\n",
       "    </tr>\n",
       "    <tr>\n",
       "      <th>3</th>\n",
       "      <td>-0.011590</td>\n",
       "      <td>-0.008300</td>\n",
       "      <td>-0.038549</td>\n",
       "    </tr>\n",
       "    <tr>\n",
       "      <th>4</th>\n",
       "      <td>-0.011015</td>\n",
       "      <td>-0.007851</td>\n",
       "      <td>-0.038488</td>\n",
       "    </tr>\n",
       "    <tr>\n",
       "      <th>5</th>\n",
       "      <td>-0.011571</td>\n",
       "      <td>-0.009225</td>\n",
       "      <td>-0.040570</td>\n",
       "    </tr>\n",
       "    <tr>\n",
       "      <th>6</th>\n",
       "      <td>-0.026245</td>\n",
       "      <td>-0.025753</td>\n",
       "      <td>-0.049336</td>\n",
       "    </tr>\n",
       "    <tr>\n",
       "      <th>7</th>\n",
       "      <td>-0.072372</td>\n",
       "      <td>-0.072693</td>\n",
       "      <td>-0.076273</td>\n",
       "    </tr>\n",
       "    <tr>\n",
       "      <th>8</th>\n",
       "      <td>-0.138054</td>\n",
       "      <td>-0.138518</td>\n",
       "      <td>-0.118149</td>\n",
       "    </tr>\n",
       "    <tr>\n",
       "      <th>9</th>\n",
       "      <td>-0.197656</td>\n",
       "      <td>-0.203614</td>\n",
       "      <td>-0.162925</td>\n",
       "    </tr>\n",
       "    <tr>\n",
       "      <th>10</th>\n",
       "      <td>-0.234359</td>\n",
       "      <td>-0.257488</td>\n",
       "      <td>-0.203706</td>\n",
       "    </tr>\n",
       "    <tr>\n",
       "      <th>11</th>\n",
       "      <td>-0.250234</td>\n",
       "      <td>-0.294031</td>\n",
       "      <td>-0.234929</td>\n",
       "    </tr>\n",
       "    <tr>\n",
       "      <th>12</th>\n",
       "      <td>-0.256674</td>\n",
       "      <td>-0.315949</td>\n",
       "      <td>-0.259334</td>\n",
       "    </tr>\n",
       "    <tr>\n",
       "      <th>13</th>\n",
       "      <td>-0.258364</td>\n",
       "      <td>-0.328053</td>\n",
       "      <td>-0.281198</td>\n",
       "    </tr>\n",
       "    <tr>\n",
       "      <th>14</th>\n",
       "      <td>-0.255864</td>\n",
       "      <td>-0.329974</td>\n",
       "      <td>-0.294704</td>\n",
       "    </tr>\n",
       "    <tr>\n",
       "      <th>15</th>\n",
       "      <td>-0.251699</td>\n",
       "      <td>-0.323814</td>\n",
       "      <td>-0.297363</td>\n",
       "    </tr>\n",
       "    <tr>\n",
       "      <th>16</th>\n",
       "      <td>-0.240963</td>\n",
       "      <td>-0.305290</td>\n",
       "      <td>-0.285922</td>\n",
       "    </tr>\n",
       "    <tr>\n",
       "      <th>17</th>\n",
       "      <td>-0.215915</td>\n",
       "      <td>-0.271344</td>\n",
       "      <td>-0.257607</td>\n",
       "    </tr>\n",
       "    <tr>\n",
       "      <th>18</th>\n",
       "      <td>-0.170927</td>\n",
       "      <td>-0.218741</td>\n",
       "      <td>-0.212758</td>\n",
       "    </tr>\n",
       "    <tr>\n",
       "      <th>19</th>\n",
       "      <td>-0.106769</td>\n",
       "      <td>-0.143342</td>\n",
       "      <td>-0.156199</td>\n",
       "    </tr>\n",
       "    <tr>\n",
       "      <th>20</th>\n",
       "      <td>-0.056653</td>\n",
       "      <td>-0.074168</td>\n",
       "      <td>-0.107481</td>\n",
       "    </tr>\n",
       "    <tr>\n",
       "      <th>21</th>\n",
       "      <td>-0.034517</td>\n",
       "      <td>-0.037151</td>\n",
       "      <td>-0.076008</td>\n",
       "    </tr>\n",
       "    <tr>\n",
       "      <th>22</th>\n",
       "      <td>-0.023812</td>\n",
       "      <td>-0.021962</td>\n",
       "      <td>-0.057232</td>\n",
       "    </tr>\n",
       "    <tr>\n",
       "      <th>23</th>\n",
       "      <td>-0.018384</td>\n",
       "      <td>-0.015246</td>\n",
       "      <td>-0.050024</td>\n",
       "    </tr>\n",
       "    <tr>\n",
       "      <th>24</th>\n",
       "      <td>-0.015393</td>\n",
       "      <td>-0.011644</td>\n",
       "      <td>-0.049275</td>\n",
       "    </tr>\n",
       "  </tbody>\n",
       "</table>\n",
       "</div>"
      ],
      "text/plain": [
       "      Ball-Berry    Jarvis  Simple resistance\n",
       "hour                                         \n",
       "0      -0.015393 -0.011644          -0.049275\n",
       "1      -0.014286 -0.010777          -0.044649\n",
       "2      -0.012894 -0.009533          -0.040845\n",
       "3      -0.011590 -0.008300          -0.038549\n",
       "4      -0.011015 -0.007851          -0.038488\n",
       "5      -0.011571 -0.009225          -0.040570\n",
       "6      -0.026245 -0.025753          -0.049336\n",
       "7      -0.072372 -0.072693          -0.076273\n",
       "8      -0.138054 -0.138518          -0.118149\n",
       "9      -0.197656 -0.203614          -0.162925\n",
       "10     -0.234359 -0.257488          -0.203706\n",
       "11     -0.250234 -0.294031          -0.234929\n",
       "12     -0.256674 -0.315949          -0.259334\n",
       "13     -0.258364 -0.328053          -0.281198\n",
       "14     -0.255864 -0.329974          -0.294704\n",
       "15     -0.251699 -0.323814          -0.297363\n",
       "16     -0.240963 -0.305290          -0.285922\n",
       "17     -0.215915 -0.271344          -0.257607\n",
       "18     -0.170927 -0.218741          -0.212758\n",
       "19     -0.106769 -0.143342          -0.156199\n",
       "20     -0.056653 -0.074168          -0.107481\n",
       "21     -0.034517 -0.037151          -0.076008\n",
       "22     -0.023812 -0.021962          -0.057232\n",
       "23     -0.018384 -0.015246          -0.050024\n",
       "24     -0.015393 -0.011644          -0.049275"
      ]
     },
     "execution_count": 21,
     "metadata": {},
     "output_type": "execute_result"
    }
   ],
   "source": [
    "ET_Combine"
   ]
  },
  {
   "cell_type": "markdown",
   "metadata": {},
   "source": [
    "#### 4.4) Add obervation data from Aspen station and Reynolds Mountain East to the plot"
   ]
  },
  {
   "cell_type": "code",
   "execution_count": 22,
   "metadata": {
    "scrolled": true
   },
   "outputs": [
    {
     "data": {
      "text/plain": [
       "'/data/hsjupyter/a/davidchoi76/pysumma_test/SummaModel_ReynoldsAspenStand_StomatalResistance_sopron/testCases_data/validationData/ReynoldsCreek_eddyFlux.nc'"
      ]
     },
     "execution_count": 22,
     "metadata": {},
     "output_type": "execute_result"
    }
   ],
   "source": [
    "file_manager.split('/settings')[0]+'/testCases_data/validationData/ReynoldsCreek_eddyFlux.nc'"
   ]
  },
  {
   "cell_type": "code",
   "execution_count": 23,
   "metadata": {},
   "outputs": [],
   "source": [
    "# create pySUMMA Plotting Object\n",
    "Val_eddyFlux = Plotting(file_manager.split('/settings')[0]+'/data/validationData/ReynoldsCreek_eddyFlux.nc')"
   ]
  },
  {
   "cell_type": "code",
   "execution_count": 24,
   "metadata": {},
   "outputs": [],
   "source": [
    "# read Total Evapotranspiration(LE-wpl) AND Wind(WindFlag) from validation netcdf file\n",
    "Obs_Evapotranspitaton = Val_eddyFlux.ds['LE-wpl']\n",
    "Obs_Wind = Val_eddyFlux.ds['WindFlag']\n",
    "# create dates(X-axis) attribute from validation netcdf file\n",
    "dates = Obs_Evapotranspitaton.coords['time'].data\n",
    "# create obs_data(Y-axis) attribute from validation netcdf file\n",
    "obs_evap = Obs_Evapotranspitaton.data\n",
    "obs_wind = Obs_Wind.data\n",
    "# create two dimensional tabular data structure \n",
    "df_evap = pd.DataFrame(obs_evap, index=dates)\n",
    "df_wind = pd.DataFrame(obs_wind, index=dates)\n",
    "# set the time period to display plot\n",
    "df_evap_filt = df_evap.loc[\"2007-05-31 23:00:00\":\"2007-08-20 22:30:00\"]\n",
    "df_wind_filt = df_wind.loc[\"2007-05-31 23:00:00\":\"2007-08-20 22:30:00\"]   #\"2007-06-01\":\"2007-08-20\"\n",
    "# select aspen obervation station among three different stations\n",
    "df_evap_filt.columns = ['-','Obs_evap (aspen)','-']\n",
    "df_wind_filt.columns = ['-','Obs_wind (aspen)','-']\n",
    "# Combine total evapotranspiration and wind data\n",
    "obs_output = pd.concat([df_evap_filt['Obs_evap (aspen)'], df_wind_filt['Obs_wind (aspen)']], axis=1)"
   ]
  },
  {
   "cell_type": "code",
   "execution_count": 25,
   "metadata": {},
   "outputs": [
    {
     "name": "stderr",
     "output_type": "stream",
     "text": [
      "/opt/conda/lib/python3.6/site-packages/ipykernel/__main__.py:15: SettingWithCopyWarning: \n",
      "A value is trying to be set on a copy of a slice from a DataFrame\n",
      "\n",
      "See the caveats in the documentation: http://pandas.pydata.org/pandas-docs/stable/indexing.html#indexing-view-versus-copy\n",
      "/opt/conda/lib/python3.6/site-packages/IPython/core/interactiveshell.py:2963: SettingWithCopyWarning: \n",
      "A value is trying to be set on a copy of a slice from a DataFrame\n",
      "\n",
      "See the caveats in the documentation: http://pandas.pydata.org/pandas-docs/stable/indexing.html#indexing-view-versus-copy\n",
      "  exec(code_obj, self.user_global_ns, self.user_ns)\n"
     ]
    }
   ],
   "source": [
    "# add hour column\n",
    "obs_output['hour'] = obs_output.index.hour\n",
    "# drop NaN and select row of wind = 0\n",
    "obs_output1 = obs_output.dropna()\n",
    "hourly_obs = obs_output1.loc[obs_output1['Obs_wind (aspen)'] == 0]\n",
    "# select obs data that has both 30min and 1hour data\n",
    "count = 0\n",
    "for index, value in hourly_obs.iterrows():\n",
    "    if hourly_obs.loc[:, ['hour']].iloc[count].values == hourly_obs.loc[:, ['hour']].iloc[count+1].values:\n",
    "        if count >= len(hourly_obs)-3:\n",
    "            break\n",
    "        count = count + 2\n",
    "        pass\n",
    "    else:\n",
    "        hourly_obs['hour'][count] = 100\n",
    "        count = count + 1"
   ]
  },
  {
   "cell_type": "code",
   "execution_count": 26,
   "metadata": {},
   "outputs": [],
   "source": [
    "# select and delete row of wind = 100\n",
    "delete_row = hourly_obs[hourly_obs.iloc[:,2]==100].index\n",
    "hourly_obs = hourly_obs.drop(delete_row)"
   ]
  },
  {
   "cell_type": "code",
   "execution_count": 27,
   "metadata": {},
   "outputs": [],
   "source": [
    "# select evapotranspiration data at aspen station\n",
    "evap_hourly = hourly_obs.loc[:, ['Obs_evap (aspen)']]\n",
    "# resample data by the average for hour of day\n",
    "df_gp_hr = evap_hourly.groupby([evap_hourly.index.hour, evap_hourly.index.minute]).mean()\n",
    "# Change unit from kgm-2s-1 to mm/hr \n",
    "df_gp_hr = df_gp_hr/2260000*3600\n",
    "# reset index so each row has an hour an minute column\n",
    "df_gp_hr.reset_index(inplace=True)\n",
    "# add hour and minute columns for plotting\n",
    "xvals = df_gp_hr.reset_index()['level_0'] + df_gp_hr.reset_index()['level_1']/60."
   ]
  },
  {
   "cell_type": "markdown",
   "metadata": {},
   "source": [
    "#### 4.5) Plotting output of three different stomatal resistance parameterizations and observation data"
   ]
  },
  {
   "cell_type": "code",
   "execution_count": 29,
   "metadata": {},
   "outputs": [
    {
     "data": {
      "text/plain": [
       "(array([-0.6, -0.5, -0.4, -0.3, -0.2, -0.1,  0. ]),\n",
       " <a list of 7 Text yticklabel objects>)"
      ]
     },
     "execution_count": 29,
     "metadata": {},
     "output_type": "execute_result"
    },
    {
     "data": {
      "image/png": "[encoded data removed]",
      "text/plain": [
       "<matplotlib.figure.Figure at 0x7f0cc3bd6a58>"
      ]
     },
     "metadata": {},
     "output_type": "display_data"
    }
   ],
   "source": [
    "# create plot with three different stomatal resistance parameterizations\n",
    "ET_Combine_Graph = ET_Combine.plot(color=['blue', 'green', 'orange'],linewidth=4.0,figsize=(10,10))\n",
    "# invert y axis\n",
    "ET_Combine_Graph.invert_yaxis()\n",
    "# plot scatter with x='xvals', y='Observation (aspen)'\n",
    "ET_Combine_Graph.scatter(xvals, df_gp_hr['Obs_evap (aspen)'], color='black', s=200)\n",
    "# add x, y label\n",
    "plt.xlabel('Time of day (hr)', fontsize=25)\n",
    "plt.ylabel('Total evapotranspiration (mm h-1)', fontsize=25)\n",
    "# show up the legend\n",
    "ET_Combine_Graph.legend(fontsize=18, loc=2)\n",
    "plt.xlim(0,24)\n",
    "plt.ylim(0,-0.6)\n",
    "x = [0,3,6,9,12,15,18,21,24]\n",
    "plt.xticks(x, x, fontsize=25)\n",
    "plt.yticks(fontsize=25)"
   ]
  },
  {
   "cell_type": "markdown",
   "metadata": {},
   "source": [
    "#### 4.6) Validation between the observation and simulation data."
   ]
  },
  {
   "cell_type": "code",
   "execution_count": 33,
   "metadata": {},
   "outputs": [],
   "source": [
    "from pysumma.Validation import validation"
   ]
  },
  {
   "cell_type": "code",
   "execution_count": 34,
   "metadata": {
    "scrolled": false
   },
   "outputs": [],
   "source": [
    "# defind simulation data\n",
    "BallBerry_simulation = ET_Combine ['Ball-Berry']\n",
    "Jarvis_simulation = ET_Combine ['Jarvis']\n",
    "Simple_resistance_simulation = ET_Combine ['Simple resistance']"
   ]
  },
  {
   "cell_type": "code",
   "execution_count": 35,
   "metadata": {},
   "outputs": [],
   "source": [
    "# defind observation data\n",
    "obs = df_gp_hr.groupby('level_0').mean()\n",
    "observation_data = obs['Observation (aspen)']"
   ]
  },
  {
   "cell_type": "code",
   "execution_count": 66,
   "metadata": {},
   "outputs": [
    {
     "name": "stdout",
     "output_type": "stream",
     "text": [
      "Mean Absolute Error: 0.014720\n",
      "Mean Squared Error: 0.000434\n",
      "Root Mean Squared Error: 0.020833\n"
     ]
    }
   ],
   "source": [
    "# analyze validtation between BallBerry simulation and observation data.\n",
    "validation.analysis(observation_data, BallBerry_simulation)"
   ]
  },
  {
   "cell_type": "code",
   "execution_count": 67,
   "metadata": {},
   "outputs": [
    {
     "name": "stdout",
     "output_type": "stream",
     "text": [
      "Mean Absolute Error: 0.019703\n",
      "Mean Squared Error: 0.000915\n",
      "Root Mean Squared Error: 0.030249\n"
     ]
    }
   ],
   "source": [
    "# analyze validtation between Jarvis simulation and observation data.\n",
    "validation.analysis(observation_data, Jarvis_simulation)"
   ]
  },
  {
   "cell_type": "code",
   "execution_count": 68,
   "metadata": {},
   "outputs": [
    {
     "name": "stdout",
     "output_type": "stream",
     "text": [
      "Mean Absolute Error: 0.033234\n",
      "Mean Squared Error: 0.001449\n",
      "Root Mean Squared Error: 0.038060\n"
     ]
    }
   ],
   "source": [
    "# analyze validtation between Simple resistance simulation and observation data.\n",
    "validation.analysis(observation_data, Simple_resistance_simulation)"
   ]
  },
  {
   "cell_type": "markdown",
   "metadata": {},
   "source": [
    "## 5. Discussion"
   ]
  },
  {
   "cell_type": "markdown",
   "metadata": {},
   "source": [
    "As stated in Clark et al., 2015, the following insights can be gained from this analysis:\n",
    "* The simulations in Figure 7 illustrate substantial differences in the estimates of the diurnal cycle of transpiration depending on the choice of stomatal resistance parameterization. \n",
    "* The simple soil resistance parameterization [Liang et al., 1994], when combined with the two-source model of within-canopy and below-canopy turbulence [Choudhury and Monteith, 1988; Clark et al., 2015a], results in a substantial amount of transpiration at night when there is no light available for photosynthesis. \n",
    "* The physiological representations of transpiration – using the Jarvis and Ball-Berry parameterizations, as defined in Clark et al. [2015a] – have an explicit dependence on photosynthetically active radiation and show the expected result of zero transpiration during nighttime hours. This results in a poor match with observations (Figure 7).\n",
    "* A striking result from Figure 7 is that the Ball-Berry parameterization underestimates evapotranspiration when applied using the default model parameters for stomatal resistance in combination with the particular choice of process parameterizations and parameters for soil hydrology."
   ]
  },
  {
   "cell_type": "markdown",
   "metadata": {},
   "source": [
    "## 6. Post a renewal Model Instance, SUMMA output, and notebook back to Hydroshare"
   ]
  },
  {
   "cell_type": "code",
   "execution_count": 69,
   "metadata": {
    "scrolled": true
   },
   "outputs": [
    {
     "name": "stdout",
     "output_type": "stream",
     "text": [
      "Successfully established a connection with HydroShare\n"
     ]
    }
   ],
   "source": [
    "from pysumma.hydroshare import hydroshare\n",
    "hs = hydroshare.hydroshare()"
   ]
  },
  {
   "cell_type": "code",
   "execution_count": 70,
   "metadata": {},
   "outputs": [],
   "source": [
    "# zip a renewal SUMMA Model Instance to upload on HydroShare\n",
    "import shutil, os\n",
    "archive_name = os.path.expanduser(os.path.join('~', os.getcwd() +'/' + instance +'_new'))\n",
    "root_dir = os.path.expanduser(os.path.join('~', os.getcwd() +'/' + instance))\n",
    "shutil.make_archive(archive_name, 'zip', root_dir)\n",
    "Model_instance = os.getcwd() +'/' + instance +'_new.zip'"
   ]
  },
  {
   "cell_type": "code",
   "execution_count": 71,
   "metadata": {},
   "outputs": [],
   "source": [
    "# set meta data such as abstract, title, keywords, rtype to create a new SUMMA Model Instance\n",
    "title = 'Sensitivity to Stomatal Resistance Parameterization of SUMMA Model in Aspen stand at Reynolds Mountain East_new'\n",
    "abstract = 'Sensitivity to Stomatal Resistance Parameterization of SUMMA Model in Aspen stand at Reynolds Mountain East(new)'\n",
    "keywords = ('SUMMA', 'Hydrologic Model', 'Reynolds Mountain East', 'stomatal resistance parameterization', 'Evapotranspiration')\n",
    "rtype = 'ModelInstanceResource'\n",
    "fpath = Model_instance,\n",
    "metadata = '[{\"creator\":{\"name\":\"Youngdon Choi\"}}, {\"creator\":{\"name\":\"Jeffrey Sadler\"}}]'\n",
    "extra_metadata = '{\"key-1\": \"value-1\", \"key-2\": \"value-2\"}'"
   ]
  },
  {
   "cell_type": "code",
   "execution_count": 72,
   "metadata": {},
   "outputs": [
    {
     "name": "stdout",
     "output_type": "stream",
     "text": [
      "Resource Created Successfully                           \n"
     ]
    },
    {
     "data": {
      "text/html": [
       "Resource id: e9b144f138b247b988d209687661ec7c"
      ],
      "text/plain": [
       "<IPython.core.display.HTML object>"
      ]
     },
     "metadata": {},
     "output_type": "display_data"
    },
    {
     "data": {
      "text/html": [
       "<a href=https://www.hydroshare.org/resource/e9b144f138b247b988d209687661ec7c target=\"_blank\">Open Resource in HydroShare<a>"
      ],
      "text/plain": [
       "<IPython.core.display.HTML object>"
      ]
     },
     "metadata": {},
     "output_type": "display_data"
    }
   ],
   "source": [
    "# create a new SUMMA Model Instance on HydroShare\n",
    "resource_id1 = hs.createHydroShareResource(title=title, content_files=fpath, keywords=keywords, abstract=abstract, resource_type='modelinstanceresource', public=False)"
   ]
  },
  {
   "cell_type": "code",
   "execution_count": 73,
   "metadata": {},
   "outputs": [],
   "source": [
    "# set meta data such as abstract, title, keywords, rtype to create a SUMMA Composite Resource that contains SUMMA Model instance, output, and notebook.\n",
    "title = 'Sensitivity to Stomatal Resistance Parameterization of SUMMA Model in Aspen stand at Reynolds Mountain East_new'\n",
    "abstract = 'Sensitivity to Stomatal Resistance Parameterization of SUMMA Model in Aspen stand at Reynolds Mountain East'\n",
    "keywords = ('SUMMA', 'Hydrologic Model', 'Reynolds Mountain East', 'stomatal resistance parameterization', 'Evapotranspiration')\n",
    "#rtype = 'GenericResource'\n",
    "rtype = 'CompositeResource'\n",
    "files = out_file1, out_file2, out_file3\n",
    "metadata = '[{\"creator\":{\"name\":\"Youngdon Choi\"}}, {\"creator\":{\"name\":\"Jeffrey Sadler\"}}]'\n",
    "extra_metadata = '{\"key-1\": \"value-1\", \"key-2\": \"value-2\"}'"
   ]
  },
  {
   "cell_type": "code",
   "execution_count": 74,
   "metadata": {
    "scrolled": true
   },
   "outputs": [
    {
     "name": "stdout",
     "output_type": "stream",
     "text": [
      "Resource Created Successfully                           \n",
      "Successfully Added Content Files                      \n"
     ]
    },
    {
     "data": {
      "text/html": [
       "Resource id: c71037d5174d444691247e0ce3f79f03"
      ],
      "text/plain": [
       "<IPython.core.display.HTML object>"
      ]
     },
     "metadata": {},
     "output_type": "display_data"
    },
    {
     "data": {
      "text/html": [
       "<a href=https://www.hydroshare.org/resource/c71037d5174d444691247e0ce3f79f03 target=\"_blank\">Open Resource in HydroShare<a>"
      ],
      "text/plain": [
       "<IPython.core.display.HTML object>"
      ]
     },
     "metadata": {},
     "output_type": "display_data"
    }
   ],
   "source": [
    "# create a new SUMMA Composite Resource on HydroShare\n",
    "resource_id2 = hs.createHydroShareResource(title=title, content_files=files, keywords=keywords, abstract=abstract, resource_type='compositeresource', public=False)"
   ]
  },
  {
   "cell_type": "code",
   "execution_count": 75,
   "metadata": {},
   "outputs": [
    {
     "name": "stdout",
     "output_type": "stream",
     "text": [
      "Successfully Added Content Files                      \n"
     ]
    }
   ],
   "source": [
    "# add a new SUMMA Model Instance to a new SUMMA Composite Resource.\n",
    "hs.addContentToExistingResource(resource_id2, [Model_instance])"
   ]
  },
  {
   "cell_type": "markdown",
   "metadata": {},
   "source": [
    "#### Save this notebook file and add the notebook to the resource"
   ]
  },
  {
   "cell_type": "code",
   "execution_count": 76,
   "metadata": {
    "scrolled": true
   },
   "outputs": [
    {
     "name": "stdout",
     "output_type": "stream",
     "text": [
      "Successfully Added Content Files                      \n"
     ]
    }
   ],
   "source": [
    "# add a new notebook to a new SUMMA Composite Resource.\n",
    "npath = os.getcwd() +'/SummaModel_ReynoldsAspennStand_StomatalResistance_CyberGIS_Jupyter.ipynb'\n",
    "# check the resource id on HS that created.\n",
    "hs.addContentToExistingResource(resource_id2, [npath])"
   ]
  },
  {
   "cell_type": "code",
   "execution_count": null,
   "metadata": {
    "collapsed": true
   },
   "outputs": [],
   "source": []
  }
 ],
 "metadata": {
  "kernelspec": {
   "display_name": "pysumma1",
   "language": "python",
   "name": "pysumma"
  },
  "language_info": {
   "codemirror_mode": {
    "name": "ipython",
    "version": 3
   },
   "file_extension": ".py",
   "mimetype": "text/x-python",
   "name": "python",
   "nbconvert_exporter": "python",
   "pygments_lexer": "ipython3",
   "version": "3.6.5"
  }
 },
 "nbformat": 4,
 "nbformat_minor": 2
}
